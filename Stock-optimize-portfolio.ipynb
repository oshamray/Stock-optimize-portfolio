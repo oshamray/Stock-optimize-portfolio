{
  "nbformat": 4,
  "nbformat_minor": 0,
  "metadata": {
    "colab": {
      "name": "StockChecker.ipynb",
      "provenance": [],
      "collapsed_sections": [],
      "authorship_tag": "ABX9TyP8d7QGanTkkyBaIijRXN01",
      "include_colab_link": true
    },
    "kernelspec": {
      "name": "python3",
      "display_name": "Python 3"
    }
  },
  "cells": [
    {
      "cell_type": "markdown",
      "metadata": {
        "id": "view-in-github",
        "colab_type": "text"
      },
      "source": [
        "<a href=\"https://colab.research.google.com/github/oshamray/Stock-optimize-portfolio/blob/master/Stock-optimize-portfolio.ipynb\" target=\"_parent\"><img src=\"https://colab.research.google.com/assets/colab-badge.svg\" alt=\"Open In Colab\"/></a>"
      ]
    },
    {
      "cell_type": "code",
      "metadata": {
        "id": "iikxP64R-T2l",
        "colab_type": "code",
        "colab": {
          "base_uri": "https://localhost:8080/",
          "height": 70
        },
        "outputId": "3e219372-4e9c-40ca-dcb1-74a06acd2466"
      },
      "source": [
        "#Imports libraries\n",
        "from pandas_datareader import data as web\n",
        "import pandas as pd\n",
        "import numpy as np\n",
        "from datetime import datetime\n",
        "import matplotlib.pyplot as plt\n",
        "plt.style.use('fivethirtyeight')"
      ],
      "execution_count": null,
      "outputs": [
        {
          "output_type": "stream",
          "text": [
            "/usr/local/lib/python3.6/dist-packages/pandas_datareader/compat/__init__.py:7: FutureWarning: pandas.util.testing is deprecated. Use the functions in the public API at pandas.testing instead.\n",
            "  from pandas.util.testing import assert_frame_equal\n"
          ],
          "name": "stderr"
        }
      ]
    },
    {
      "cell_type": "code",
      "metadata": {
        "id": "uvyaYYHc_5L7",
        "colab_type": "code",
        "colab": {}
      },
      "source": [
        "#get stock symbols fiction portfolio\n",
        "assets = ['INTC','CL=F','GE']"
      ],
      "execution_count": null,
      "outputs": []
    },
    {
      "cell_type": "code",
      "metadata": {
        "id": "zEFsy_WYAU2b",
        "colab_type": "code",
        "colab": {}
      },
      "source": [
        "#weights to the stocks\n",
        "weigts = np.array([0.33, 0.33, 0.33])"
      ],
      "execution_count": null,
      "outputs": []
    },
    {
      "cell_type": "code",
      "metadata": {
        "id": "dISBvHYBAtDo",
        "colab_type": "code",
        "colab": {}
      },
      "source": [
        "#Get portfilio start date\n",
        "stockStartDate = '2019-01-01'"
      ],
      "execution_count": null,
      "outputs": []
    },
    {
      "cell_type": "code",
      "metadata": {
        "id": "qBfq250PA8XU",
        "colab_type": "code",
        "colab": {
          "base_uri": "https://localhost:8080/",
          "height": 35
        },
        "outputId": "87f292da-e707-48fa-d6e9-b6957d7a23ec"
      },
      "source": [
        "#Stocks ending date\n",
        "today = datetime.today().strftime('%Y-%m-%d')\n",
        "today"
      ],
      "execution_count": null,
      "outputs": [
        {
          "output_type": "execute_result",
          "data": {
            "application/vnd.google.colaboratory.intrinsic": {
              "type": "string"
            },
            "text/plain": [
              "'2020-07-08'"
            ]
          },
          "metadata": {
            "tags": []
          },
          "execution_count": 5
        }
      ]
    },
    {
      "cell_type": "code",
      "metadata": {
        "id": "FhB1tfDNBZd7",
        "colab_type": "code",
        "colab": {}
      },
      "source": [
        "# Create df to store  close price\n",
        "df = pd.DataFrame()\n",
        "\n",
        "#store the data close price to the df\n",
        "for stock in assets:\n",
        "  df[stock] = web.DataReader(stock, data_source='yahoo', start=stockStartDate,end=today)['Adj Close']"
      ],
      "execution_count": null,
      "outputs": []
    },
    {
      "cell_type": "code",
      "metadata": {
        "id": "_LUZT44vCeHU",
        "colab_type": "code",
        "colab": {
          "base_uri": "https://localhost:8080/",
          "height": 434
        },
        "outputId": "5236ce74-c20d-4ce3-f49a-10833bf95c52"
      },
      "source": [
        "#Show df\n",
        "df"
      ],
      "execution_count": null,
      "outputs": [
        {
          "output_type": "execute_result",
          "data": {
            "text/html": [
              "<div>\n",
              "<style scoped>\n",
              "    .dataframe tbody tr th:only-of-type {\n",
              "        vertical-align: middle;\n",
              "    }\n",
              "\n",
              "    .dataframe tbody tr th {\n",
              "        vertical-align: top;\n",
              "    }\n",
              "\n",
              "    .dataframe thead th {\n",
              "        text-align: right;\n",
              "    }\n",
              "</style>\n",
              "<table border=\"1\" class=\"dataframe\">\n",
              "  <thead>\n",
              "    <tr style=\"text-align: right;\">\n",
              "      <th></th>\n",
              "      <th>INTC</th>\n",
              "      <th>CL=F</th>\n",
              "      <th>GE</th>\n",
              "    </tr>\n",
              "    <tr>\n",
              "      <th>Date</th>\n",
              "      <th></th>\n",
              "      <th></th>\n",
              "      <th></th>\n",
              "    </tr>\n",
              "  </thead>\n",
              "  <tbody>\n",
              "    <tr>\n",
              "      <th>2019-01-02</th>\n",
              "      <td>45.452202</td>\n",
              "      <td>46.540001</td>\n",
              "      <td>7.690249</td>\n",
              "    </tr>\n",
              "    <tr>\n",
              "      <th>2019-01-03</th>\n",
              "      <td>42.951744</td>\n",
              "      <td>47.090000</td>\n",
              "      <td>7.699802</td>\n",
              "    </tr>\n",
              "    <tr>\n",
              "      <th>2019-01-04</th>\n",
              "      <td>45.587357</td>\n",
              "      <td>47.959999</td>\n",
              "      <td>7.862205</td>\n",
              "    </tr>\n",
              "    <tr>\n",
              "      <th>2019-01-07</th>\n",
              "      <td>45.799751</td>\n",
              "      <td>48.520000</td>\n",
              "      <td>8.349413</td>\n",
              "    </tr>\n",
              "    <tr>\n",
              "      <th>2019-01-08</th>\n",
              "      <td>46.089378</td>\n",
              "      <td>49.779999</td>\n",
              "      <td>8.177457</td>\n",
              "    </tr>\n",
              "    <tr>\n",
              "      <th>...</th>\n",
              "      <td>...</td>\n",
              "      <td>...</td>\n",
              "      <td>...</td>\n",
              "    </tr>\n",
              "    <tr>\n",
              "      <th>2020-07-01</th>\n",
              "      <td>58.810001</td>\n",
              "      <td>39.610001</td>\n",
              "      <td>6.740000</td>\n",
              "    </tr>\n",
              "    <tr>\n",
              "      <th>2020-07-02</th>\n",
              "      <td>59.130001</td>\n",
              "      <td>40.320000</td>\n",
              "      <td>6.820000</td>\n",
              "    </tr>\n",
              "    <tr>\n",
              "      <th>2020-07-06</th>\n",
              "      <td>59.540001</td>\n",
              "      <td>40.700001</td>\n",
              "      <td>7.000000</td>\n",
              "    </tr>\n",
              "    <tr>\n",
              "      <th>2020-07-07</th>\n",
              "      <td>58.310001</td>\n",
              "      <td>40.400002</td>\n",
              "      <td>6.760000</td>\n",
              "    </tr>\n",
              "    <tr>\n",
              "      <th>2020-07-08</th>\n",
              "      <td>58.150002</td>\n",
              "      <td>40.660000</td>\n",
              "      <td>6.800000</td>\n",
              "    </tr>\n",
              "  </tbody>\n",
              "</table>\n",
              "<p>382 rows × 3 columns</p>\n",
              "</div>"
            ],
            "text/plain": [
              "                 INTC       CL=F        GE\n",
              "Date                                      \n",
              "2019-01-02  45.452202  46.540001  7.690249\n",
              "2019-01-03  42.951744  47.090000  7.699802\n",
              "2019-01-04  45.587357  47.959999  7.862205\n",
              "2019-01-07  45.799751  48.520000  8.349413\n",
              "2019-01-08  46.089378  49.779999  8.177457\n",
              "...               ...        ...       ...\n",
              "2020-07-01  58.810001  39.610001  6.740000\n",
              "2020-07-02  59.130001  40.320000  6.820000\n",
              "2020-07-06  59.540001  40.700001  7.000000\n",
              "2020-07-07  58.310001  40.400002  6.760000\n",
              "2020-07-08  58.150002  40.660000  6.800000\n",
              "\n",
              "[382 rows x 3 columns]"
            ]
          },
          "metadata": {
            "tags": []
          },
          "execution_count": 19
        }
      ]
    },
    {
      "cell_type": "code",
      "metadata": {
        "id": "OBONNSOmCpMs",
        "colab_type": "code",
        "colab": {
          "base_uri": "https://localhost:8080/",
          "height": 325
        },
        "outputId": "146be93c-7858-42e7-b4e8-5d416e3a2d7f"
      },
      "source": [
        "#visual show the stocks\n",
        "title = 'Portfolio Close Price'\n",
        "\n",
        "#Get the stocks\n",
        "my_stocks = df\n",
        "\n",
        "#create and plot the graph\n",
        "for c in my_stocks.columns.values:\n",
        "  plt.plot(my_stocks[c], label = c)\n",
        "\n",
        "plt.title(title)\n",
        "plt.xlabel('Date', fontsize = 18)\n",
        "plt.ylabel('Price USD ($)', fontsize = 18)\n",
        "plt.legend(my_stocks.columns.values, loc='upper left')\n",
        "plt.show()\n"
      ],
      "execution_count": null,
      "outputs": [
        {
          "output_type": "display_data",
          "data": {
            "image/png": "[encoded data removed]",
            "text/plain": [
              "<Figure size 432x288 with 1 Axes>"
            ]
          },
          "metadata": {
            "tags": []
          }
        }
      ]
    },
    {
      "cell_type": "code",
      "metadata": {
        "id": "PW3xcAcrEQM0",
        "colab_type": "code",
        "colab": {
          "base_uri": "https://localhost:8080/",
          "height": 434
        },
        "outputId": "2b8d7b31-3a39-45b3-dc1d-c27329af8608"
      },
      "source": [
        "#show dayly returns\n",
        "returns = df.pct_change()\n",
        "returns"
      ],
      "execution_count": null,
      "outputs": [
        {
          "output_type": "execute_result",
          "data": {
            "text/html": [
              "<div>\n",
              "<style scoped>\n",
              "    .dataframe tbody tr th:only-of-type {\n",
              "        vertical-align: middle;\n",
              "    }\n",
              "\n",
              "    .dataframe tbody tr th {\n",
              "        vertical-align: top;\n",
              "    }\n",
              "\n",
              "    .dataframe thead th {\n",
              "        text-align: right;\n",
              "    }\n",
              "</style>\n",
              "<table border=\"1\" class=\"dataframe\">\n",
              "  <thead>\n",
              "    <tr style=\"text-align: right;\">\n",
              "      <th></th>\n",
              "      <th>INTC</th>\n",
              "      <th>CL=F</th>\n",
              "      <th>GE</th>\n",
              "    </tr>\n",
              "    <tr>\n",
              "      <th>Date</th>\n",
              "      <th></th>\n",
              "      <th></th>\n",
              "      <th></th>\n",
              "    </tr>\n",
              "  </thead>\n",
              "  <tbody>\n",
              "    <tr>\n",
              "      <th>2019-01-02</th>\n",
              "      <td>NaN</td>\n",
              "      <td>NaN</td>\n",
              "      <td>NaN</td>\n",
              "    </tr>\n",
              "    <tr>\n",
              "      <th>2019-01-03</th>\n",
              "      <td>-0.055013</td>\n",
              "      <td>0.011818</td>\n",
              "      <td>0.001242</td>\n",
              "    </tr>\n",
              "    <tr>\n",
              "      <th>2019-01-04</th>\n",
              "      <td>0.061362</td>\n",
              "      <td>0.018475</td>\n",
              "      <td>0.021092</td>\n",
              "    </tr>\n",
              "    <tr>\n",
              "      <th>2019-01-07</th>\n",
              "      <td>0.004659</td>\n",
              "      <td>0.011676</td>\n",
              "      <td>0.061968</td>\n",
              "    </tr>\n",
              "    <tr>\n",
              "      <th>2019-01-08</th>\n",
              "      <td>0.006324</td>\n",
              "      <td>0.025969</td>\n",
              "      <td>-0.020595</td>\n",
              "    </tr>\n",
              "    <tr>\n",
              "      <th>...</th>\n",
              "      <td>...</td>\n",
              "      <td>...</td>\n",
              "      <td>...</td>\n",
              "    </tr>\n",
              "    <tr>\n",
              "      <th>2020-06-30</th>\n",
              "      <td>0.026772</td>\n",
              "      <td>0.000757</td>\n",
              "      <td>0.004412</td>\n",
              "    </tr>\n",
              "    <tr>\n",
              "      <th>2020-07-01</th>\n",
              "      <td>-0.017048</td>\n",
              "      <td>-0.001261</td>\n",
              "      <td>-0.013177</td>\n",
              "    </tr>\n",
              "    <tr>\n",
              "      <th>2020-07-02</th>\n",
              "      <td>0.005441</td>\n",
              "      <td>0.017925</td>\n",
              "      <td>0.011869</td>\n",
              "    </tr>\n",
              "    <tr>\n",
              "      <th>2020-07-06</th>\n",
              "      <td>0.006934</td>\n",
              "      <td>0.009425</td>\n",
              "      <td>0.026393</td>\n",
              "    </tr>\n",
              "    <tr>\n",
              "      <th>2020-07-07</th>\n",
              "      <td>-0.017215</td>\n",
              "      <td>-0.012531</td>\n",
              "      <td>-0.031429</td>\n",
              "    </tr>\n",
              "  </tbody>\n",
              "</table>\n",
              "<p>381 rows × 3 columns</p>\n",
              "</div>"
            ],
            "text/plain": [
              "                INTC      CL=F        GE\n",
              "Date                                    \n",
              "2019-01-02       NaN       NaN       NaN\n",
              "2019-01-03 -0.055013  0.011818  0.001242\n",
              "2019-01-04  0.061362  0.018475  0.021092\n",
              "2019-01-07  0.004659  0.011676  0.061968\n",
              "2019-01-08  0.006324  0.025969 -0.020595\n",
              "...              ...       ...       ...\n",
              "2020-06-30  0.026772  0.000757  0.004412\n",
              "2020-07-01 -0.017048 -0.001261 -0.013177\n",
              "2020-07-02  0.005441  0.017925  0.011869\n",
              "2020-07-06  0.006934  0.009425  0.026393\n",
              "2020-07-07 -0.017215 -0.012531 -0.031429\n",
              "\n",
              "[381 rows x 3 columns]"
            ]
          },
          "metadata": {
            "tags": []
          },
          "execution_count": 57
        }
      ]
    },
    {
      "cell_type": "code",
      "metadata": {
        "id": "iqnoeuKzEh7E",
        "colab_type": "code",
        "colab": {
          "base_uri": "https://localhost:8080/",
          "height": 137
        },
        "outputId": "a9c9281c-5f6d-41a0-aa67-6f01fa6cc27b"
      },
      "source": [
        "#create covariance matrix\n",
        "cov_matrix_anual = returns.cov() * 252\n",
        "cov_matrix_anual"
      ],
      "execution_count": null,
      "outputs": [
        {
          "output_type": "execute_result",
          "data": {
            "text/html": [
              "<div>\n",
              "<style scoped>\n",
              "    .dataframe tbody tr th:only-of-type {\n",
              "        vertical-align: middle;\n",
              "    }\n",
              "\n",
              "    .dataframe tbody tr th {\n",
              "        vertical-align: top;\n",
              "    }\n",
              "\n",
              "    .dataframe thead th {\n",
              "        text-align: right;\n",
              "    }\n",
              "</style>\n",
              "<table border=\"1\" class=\"dataframe\">\n",
              "  <thead>\n",
              "    <tr style=\"text-align: right;\">\n",
              "      <th></th>\n",
              "      <th>INTC</th>\n",
              "      <th>CL=F</th>\n",
              "      <th>GE</th>\n",
              "    </tr>\n",
              "  </thead>\n",
              "  <tbody>\n",
              "    <tr>\n",
              "      <th>INTC</th>\n",
              "      <td>0.191849</td>\n",
              "      <td>0.163314</td>\n",
              "      <td>0.113051</td>\n",
              "    </tr>\n",
              "    <tr>\n",
              "      <th>CL=F</th>\n",
              "      <td>0.163314</td>\n",
              "      <td>14.073073</td>\n",
              "      <td>0.074708</td>\n",
              "    </tr>\n",
              "    <tr>\n",
              "      <th>GE</th>\n",
              "      <td>0.113051</td>\n",
              "      <td>0.074708</td>\n",
              "      <td>0.310764</td>\n",
              "    </tr>\n",
              "  </tbody>\n",
              "</table>\n",
              "</div>"
            ],
            "text/plain": [
              "          INTC       CL=F        GE\n",
              "INTC  0.191849   0.163314  0.113051\n",
              "CL=F  0.163314  14.073073  0.074708\n",
              "GE    0.113051   0.074708  0.310764"
            ]
          },
          "metadata": {
            "tags": []
          },
          "execution_count": 58
        }
      ]
    },
    {
      "cell_type": "code",
      "metadata": {
        "id": "4tRxIlKuE99d",
        "colab_type": "code",
        "colab": {
          "base_uri": "https://localhost:8080/",
          "height": 33
        },
        "outputId": "8ac5b203-1537-47bc-8e19-b1c083474650"
      },
      "source": [
        "#Calculate the portfolio variance\n",
        "portfolio_variance = np.dot(weigts.T, np.dot(cov_matrix_anual, weigts))\n",
        "portfolio_variance"
      ],
      "execution_count": null,
      "outputs": [
        {
          "output_type": "execute_result",
          "data": {
            "text/plain": [
              "1.663756047672242"
            ]
          },
          "metadata": {
            "tags": []
          },
          "execution_count": 59
        }
      ]
    },
    {
      "cell_type": "code",
      "metadata": {
        "id": "QPr2TCkeF0V6",
        "colab_type": "code",
        "colab": {
          "base_uri": "https://localhost:8080/",
          "height": 33
        },
        "outputId": "f95d100b-5a18-4ad6-d97e-6a7ba1499174"
      },
      "source": [
        "#Calculate portfolio volatility aka std\n",
        "portfolio_volatility = np.sqrt(portfolio_variance)\n",
        "portfolio_volatility"
      ],
      "execution_count": null,
      "outputs": [
        {
          "output_type": "execute_result",
          "data": {
            "text/plain": [
              "1.289866678254866"
            ]
          },
          "metadata": {
            "tags": []
          },
          "execution_count": 60
        }
      ]
    },
    {
      "cell_type": "code",
      "metadata": {
        "id": "j-9IP_OmGT8J",
        "colab_type": "code",
        "colab": {
          "base_uri": "https://localhost:8080/",
          "height": 33
        },
        "outputId": "e2d8fc6a-43b6-4caa-9a72-df2c6b63dff0"
      },
      "source": [
        "#Calculate anual portfolio return\n",
        "portfolio_Annual_Ret = np.sum(returns.mean() * weigts) * 252\n",
        "portfolio_Annual_Ret"
      ],
      "execution_count": null,
      "outputs": [
        {
          "output_type": "execute_result",
          "data": {
            "text/plain": [
              "-0.8524940188080815"
            ]
          },
          "metadata": {
            "tags": []
          },
          "execution_count": 61
        }
      ]
    },
    {
      "cell_type": "code",
      "metadata": {
        "id": "FVH2n4zaG1H5",
        "colab_type": "code",
        "colab": {
          "base_uri": "https://localhost:8080/",
          "height": 67
        },
        "outputId": "e5da3758-9e4c-4a68-da0d-6adcca362cd7"
      },
      "source": [
        "#Show the expected annual returns, volatility (risk), and variance\n",
        "percent_var = str(round(portfolio_variance, 2)*100) +'%'\n",
        "percent_vols = str(round(portfolio_volatility, 2)*100) +'%'\n",
        "percent_ret = str(round(portfolio_Annual_Ret, 2)*100) +'%'\n",
        "\n",
        "print('Expected annual return: '+ percent_ret) # תשואה\n",
        "print('Annual volatility/risk: '+ percent_vols)# תנודות ריסקיות\n",
        "print('Annual varinace: '+ percent_var)# שונות"
      ],
      "execution_count": null,
      "outputs": [
        {
          "output_type": "stream",
          "text": [
            "Expected annual return: -85.0%\n",
            "Annual volatility/risk: 129.0%\n",
            "Annual varinace: 166.0%\n"
          ],
          "name": "stdout"
        }
      ]
    },
    {
      "cell_type": "code",
      "metadata": {
        "id": "RqwemDVcIm0X",
        "colab_type": "code",
        "colab": {
          "base_uri": "https://localhost:8080/",
          "height": 251
        },
        "outputId": "f24e680e-3309-470b-c60c-057a26be866b"
      },
      "source": [
        "pip install PyPortfolioOpt"
      ],
      "execution_count": null,
      "outputs": [
        {
          "output_type": "stream",
          "text": [
            "Requirement already satisfied: PyPortfolioOpt in /usr/local/lib/python3.6/dist-packages (1.2.3)\n",
            "Requirement already satisfied: scipy<2.0,>=1.3 in /usr/local/lib/python3.6/dist-packages (from PyPortfolioOpt) (1.4.1)\n",
            "Requirement already satisfied: numpy<2.0,>=1.12 in /usr/local/lib/python3.6/dist-packages (from PyPortfolioOpt) (1.18.5)\n",
            "Requirement already satisfied: pandas>=0.19 in /usr/local/lib/python3.6/dist-packages (from PyPortfolioOpt) (1.0.5)\n",
            "Requirement already satisfied: cvxpy<1.1,>=1.0 in /usr/local/lib/python3.6/dist-packages (from PyPortfolioOpt) (1.0.31)\n",
            "Requirement already satisfied: python-dateutil>=2.6.1 in /usr/local/lib/python3.6/dist-packages (from pandas>=0.19->PyPortfolioOpt) (2.8.1)\n",
            "Requirement already satisfied: pytz>=2017.2 in /usr/local/lib/python3.6/dist-packages (from pandas>=0.19->PyPortfolioOpt) (2018.9)\n",
            "Requirement already satisfied: multiprocess in /usr/local/lib/python3.6/dist-packages (from cvxpy<1.1,>=1.0->PyPortfolioOpt) (0.70.10)\n",
            "Requirement already satisfied: ecos>=2 in /usr/local/lib/python3.6/dist-packages (from cvxpy<1.1,>=1.0->PyPortfolioOpt) (2.0.7.post1)\n",
            "Requirement already satisfied: osqp>=0.4.1 in /usr/local/lib/python3.6/dist-packages (from cvxpy<1.1,>=1.0->PyPortfolioOpt) (0.6.1)\n",
            "Requirement already satisfied: scs>=1.1.3 in /usr/local/lib/python3.6/dist-packages (from cvxpy<1.1,>=1.0->PyPortfolioOpt) (2.1.2)\n",
            "Requirement already satisfied: six>=1.5 in /usr/local/lib/python3.6/dist-packages (from python-dateutil>=2.6.1->pandas>=0.19->PyPortfolioOpt) (1.12.0)\n",
            "Requirement already satisfied: dill>=0.3.2 in /usr/local/lib/python3.6/dist-packages (from multiprocess->cvxpy<1.1,>=1.0->PyPortfolioOpt) (0.3.2)\n",
            "Requirement already satisfied: future in /usr/local/lib/python3.6/dist-packages (from osqp>=0.4.1->cvxpy<1.1,>=1.0->PyPortfolioOpt) (0.16.0)\n"
          ],
          "name": "stdout"
        }
      ]
    },
    {
      "cell_type": "code",
      "metadata": {
        "id": "BY636fxkV3Ms",
        "colab_type": "code",
        "colab": {}
      },
      "source": [
        "from pypfopt.efficient_frontier import EfficientFrontier\n",
        "from pypfopt import risk_models\n",
        "from pypfopt import expected_returns"
      ],
      "execution_count": null,
      "outputs": []
    },
    {
      "cell_type": "code",
      "metadata": {
        "id": "qTbc-Gc0WKai",
        "colab_type": "code",
        "colab": {
          "base_uri": "https://localhost:8080/",
          "height": 100
        },
        "outputId": "2951430c-1595-41be-da0c-f5cd2e21aef5"
      },
      "source": [
        "#Portfolio optimization\n",
        "\n",
        "#Clac the expectrd returns and the annual sample cov matrix of asset returns\n",
        "mu = expected_returns.mean_historical_return(df)\n",
        "S = risk_models.sample_cov(df)\n",
        "\n",
        "#optimize for max share ratio\n",
        "ef = EfficientFrontier(mu, S)\n",
        "weigts = ef.max_sharpe()\n",
        "cleaned_weigts = ef.clean_weights()\n",
        "print(cleaned_weigts)\n",
        "ef.portfolio_performance(verbose = True)"
      ],
      "execution_count": null,
      "outputs": [
        {
          "output_type": "stream",
          "text": [
            "OrderedDict([('INTC', 1.0), ('CL=F', 0.0), ('GE', 0.0)])\n",
            "Expected annual return: 26.3%\n",
            "Annual volatility: 43.8%\n",
            "Sharpe Ratio: 0.56\n"
          ],
          "name": "stdout"
        },
        {
          "output_type": "execute_result",
          "data": {
            "text/plain": [
              "(0.2632554915762952, 0.4380056676642371, 0.5553706482235934)"
            ]
          },
          "metadata": {
            "tags": []
          },
          "execution_count": 65
        }
      ]
    },
    {
      "cell_type": "code",
      "metadata": {
        "id": "kzruJ5QDYTIQ",
        "colab_type": "code",
        "colab": {
          "base_uri": "https://localhost:8080/",
          "height": 50
        },
        "outputId": "1ed872bb-e055-42a0-fab8-2ccc1dfbf879"
      },
      "source": [
        "from pypfopt.discrete_allocation import DiscreteAllocation, get_latest_prices\n",
        "\n",
        "latest_prices = get_latest_prices(df)\n",
        "weigts = cleaned_weigts\n",
        "da = DiscreteAllocation(weigts, latest_prices, total_portfolio_value = 5000)\n",
        "\n",
        "allocation, leftover = da.lp_portfolio()\n",
        "print('Discrete allocation:', allocation)\n",
        "print('Funds remaining: ${:.2f}'.format(leftover))\n"
      ],
      "execution_count": null,
      "outputs": [
        {
          "output_type": "stream",
          "text": [
            "Discrete allocation: {'INTC': 85.0}\n",
            "Funds remaining: $26.23\n"
          ],
          "name": "stdout"
        }
      ]
    }
  ]
}